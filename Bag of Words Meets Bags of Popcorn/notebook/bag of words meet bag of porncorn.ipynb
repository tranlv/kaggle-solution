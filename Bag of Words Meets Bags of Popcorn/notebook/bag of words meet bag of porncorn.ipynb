{
 "cells": [
  {
   "cell_type": "markdown",
   "metadata": {},
   "source": [
    "Author : [Vu Tran](https://github.com/tranlyvu). Other info is on [github](https://github.com/tranlyvu/kaggle/tree/master/Bag%20of%20Words%20Meets%20Bags%20of%20Popcorn)"
   ]
  },
  {
   "cell_type": "markdown",
   "metadata": {},
   "source": [
    "\n",
    "#Kaggle Competition: Bag of Words Meets Bags of Popcorn\n",
    "\n",
    "*   Info from Competition Site\n",
    "    *   Description\n",
    "    *   Evaluation\n",
    "    *   Data Set\n",
    "*  First attempt: \n",
    "    *  Working with data: exploring labeled Data Set\n",
    "    *  Feature 'review'\n",
    "        *  Processing raw text\n",
    "        *  Transforming feature 'review': bag-of-words model\n",
    "        *  Extending bag-of-words with TF-IDF weights\n",
    "        *  Dimensionality reduction\n",
    "    *  Training Naive Bayes\n",
    "    *  Predicting with Naive Bayes\n",
    "    *  Preparing for kaggle submission\n",
    "    *  Performance Evaluation \n",
    "        *  Splitting train data set\n",
    "        *  Evaluating performance using splitted data set\n",
    "        *  Plotting ROC curve\n",
    "    *  Hyperparameters (in progress)"
   ]
  },
  {
   "cell_type": "markdown",
   "metadata": {},
   "source": [
    "#Info from Competition Site\n",
    "\n",
    "##[Description](https://www.kaggle.com/c/word2vec-nlp-tutorial)\n",
    "\n",
    "![image](https://raw.githubusercontent.com/tranlyvu/kaggle/master/Bag%20of%20Words%20Meets%20Bags%20of%20Popcorn/image/popcorn%20cvc3.jpg)\n",
    "\n",
    "  \n",
    "##[Evaluation](https://www.kaggle.com/c/word2vec-nlp-tutorial/details/evaluation)\n",
    "\n",
    "\n",
    "Submissions are judged on area under the ROC curve. \n",
    "\n",
    "###Submission Instructions\n",
    "\n",
    "You should submit a comma-separated file with 25,000 row plus a header row. There should be 2 columns: \"id\" and \"sentiment\", which contain your binary predictions: 1 for positive reviews, 0 for negative reviews. For an example, see \"sampleSubmission.csv\" on the Data page. \n",
    "\n",
    "id,sentiment\n",
    "123_45,0 \n",
    "678_90,1\n",
    "12_34,0\n",
    "...\n",
    " \n",
    "##[Data Set](https://www.kaggle.com/c/word2vec-nlp-tutorial/data)\n",
    "\n",
    "###Data Files\n",
    "\n",
    "File Name \t      | Available Formats\n",
    "------------------|------------------\n",
    "sampleSubmission  |\t.csv (276.17 kb)\n",
    "unlabeledTrainData.tsv |\t.zip (25.98 mb)\n",
    "testData.tsv \t|.zip (12.64 mb)\n",
    "labeledTrainData.tsv |\t.zip (12.96 mb)\n",
    "\n",
    "###Data Set\n",
    "\n",
    "The labeled data set consists of 50,000 IMDB movie reviews, specially selected for sentiment analysis. The sentiment of reviews is binary, meaning the IMDB rating < 5 results in a sentiment score of 0, and rating >=7 have a sentiment score of 1. No individual movie has more than 30 reviews. The 25,000 review labeled training set does not include any of the same movies as the 25,000 review test set. In addition, there are another 50,000 IMDB reviews provided without any rating labels.\n",
    "\n",
    "###File descriptions\n",
    "\n",
    "*  labeledTrainData - The labeled training set. The file is tab-delimited and has a header row followed by 25,000 rows containing an id, sentiment, and text for each review.  \n",
    "*  testData - The test set. The tab-delimited file has a header row followed by 25,000 rows containing an id and text for each review. Your task is to predict the sentiment for each one. \n",
    "*  unlabeledTrainData - An extra training set with no labels. The tab-delimited file has a header row followed by 50,000 rows containing an id and text for each review. \n",
    "*  sampleSubmission - A comma-delimited sample submission file in the correct format.\n",
    "\n",
    "###Data fields\n",
    "\n",
    "*  id - Unique ID of each review\n",
    "*  sentiment - Sentiment of the review; 1 for positive reviews and 0 for negative reviews\n",
    "*  review - Text of the review\n"
   ]
  },
  {
   "cell_type": "markdown",
   "metadata": {},
   "source": [
    "#First attempt"
   ]
  },
  {
   "cell_type": "markdown",
   "metadata": {},
   "source": [
    "##Working with Data"
   ]
  },
  {
   "cell_type": "markdown",
   "metadata": {},
   "source": [
    "We will first explore  the labled DataSet."
   ]
  },
  {
   "cell_type": "code",
   "execution_count": 2,
   "metadata": {
    "collapsed": false
   },
   "outputs": [
    {
     "data": {
      "text/html": [
       "<div>\n",
       "<table border=\"1\" class=\"dataframe\">\n",
       "  <thead>\n",
       "    <tr style=\"text-align: right;\">\n",
       "      <th></th>\n",
       "      <th>id</th>\n",
       "      <th>sentiment</th>\n",
       "      <th>review</th>\n",
       "    </tr>\n",
       "  </thead>\n",
       "  <tbody>\n",
       "    <tr>\n",
       "      <th>0</th>\n",
       "      <td>\"5814_8\"</td>\n",
       "      <td>1</td>\n",
       "      <td>\"With all this stuff going down at the moment ...</td>\n",
       "    </tr>\n",
       "    <tr>\n",
       "      <th>1</th>\n",
       "      <td>\"2381_9\"</td>\n",
       "      <td>1</td>\n",
       "      <td>\"\\\"The Classic War of the Worlds\\\" by Timothy ...</td>\n",
       "    </tr>\n",
       "    <tr>\n",
       "      <th>2</th>\n",
       "      <td>\"7759_3\"</td>\n",
       "      <td>0</td>\n",
       "      <td>\"The film starts with a manager (Nicholas Bell...</td>\n",
       "    </tr>\n",
       "    <tr>\n",
       "      <th>3</th>\n",
       "      <td>\"3630_4\"</td>\n",
       "      <td>0</td>\n",
       "      <td>\"It must be assumed that those who praised thi...</td>\n",
       "    </tr>\n",
       "    <tr>\n",
       "      <th>4</th>\n",
       "      <td>\"9495_8\"</td>\n",
       "      <td>1</td>\n",
       "      <td>\"Superbly trashy and wondrously unpretentious ...</td>\n",
       "    </tr>\n",
       "  </tbody>\n",
       "</table>\n",
       "</div>"
      ],
      "text/plain": [
       "         id  sentiment                                             review\n",
       "0  \"5814_8\"          1  \"With all this stuff going down at the moment ...\n",
       "1  \"2381_9\"          1  \"\\\"The Classic War of the Worlds\\\" by Timothy ...\n",
       "2  \"7759_3\"          0  \"The film starts with a manager (Nicholas Bell...\n",
       "3  \"3630_4\"          0  \"It must be assumed that those who praised thi...\n",
       "4  \"9495_8\"          1  \"Superbly trashy and wondrously unpretentious ..."
      ]
     },
     "execution_count": 2,
     "metadata": {},
     "output_type": "execute_result"
    }
   ],
   "source": [
    "import pandas as pd\n",
    "#reading  labeled train dataset:\n",
    "train_data=pd.read_csv(\"C:/Users/vutran/Desktop/github/kaggle/Bag of Words Meets Bags of Popcorn/data/labeledTrainData.tsv\", header=0,delimiter=\"\\t\", quoting=3)\n",
    "train_data.head()"
   ]
  },
  {
   "cell_type": "code",
   "execution_count": 3,
   "metadata": {
    "collapsed": false,
    "scrolled": false
   },
   "outputs": [
    {
     "data": {
      "text/html": [
       "<div>\n",
       "<table border=\"1\" class=\"dataframe\">\n",
       "  <thead>\n",
       "    <tr style=\"text-align: right;\">\n",
       "      <th></th>\n",
       "      <th>id</th>\n",
       "      <th>sentiment</th>\n",
       "      <th>review</th>\n",
       "    </tr>\n",
       "  </thead>\n",
       "  <tbody>\n",
       "    <tr>\n",
       "      <th>24995</th>\n",
       "      <td>\"3453_3\"</td>\n",
       "      <td>0</td>\n",
       "      <td>\"It seems like more consideration has gone int...</td>\n",
       "    </tr>\n",
       "    <tr>\n",
       "      <th>24996</th>\n",
       "      <td>\"5064_1\"</td>\n",
       "      <td>0</td>\n",
       "      <td>\"I don't believe they made this film. Complete...</td>\n",
       "    </tr>\n",
       "    <tr>\n",
       "      <th>24997</th>\n",
       "      <td>\"10905_3\"</td>\n",
       "      <td>0</td>\n",
       "      <td>\"Guy is a loser. Can't get girls, needs to bui...</td>\n",
       "    </tr>\n",
       "    <tr>\n",
       "      <th>24998</th>\n",
       "      <td>\"10194_3\"</td>\n",
       "      <td>0</td>\n",
       "      <td>\"This 30 minute documentary Buñuel made in the...</td>\n",
       "    </tr>\n",
       "    <tr>\n",
       "      <th>24999</th>\n",
       "      <td>\"8478_8\"</td>\n",
       "      <td>1</td>\n",
       "      <td>\"I saw this movie as a child and it broke my h...</td>\n",
       "    </tr>\n",
       "  </tbody>\n",
       "</table>\n",
       "</div>"
      ],
      "text/plain": [
       "              id  sentiment                                             review\n",
       "24995   \"3453_3\"          0  \"It seems like more consideration has gone int...\n",
       "24996   \"5064_1\"          0  \"I don't believe they made this film. Complete...\n",
       "24997  \"10905_3\"          0  \"Guy is a loser. Can't get girls, needs to bui...\n",
       "24998  \"10194_3\"          0  \"This 30 minute documentary Buñuel made in the...\n",
       "24999   \"8478_8\"          1  \"I saw this movie as a child and it broke my h..."
      ]
     },
     "execution_count": 3,
     "metadata": {},
     "output_type": "execute_result"
    }
   ],
   "source": [
    "train_data.tail()"
   ]
  },
  {
   "cell_type": "markdown",
   "metadata": {},
   "source": [
    "Notice that 'sentiment' is binary"
   ]
  },
  {
   "cell_type": "code",
   "execution_count": 4,
   "metadata": {
    "collapsed": false
   },
   "outputs": [
    {
     "data": {
      "text/plain": [
       "id           object\n",
       "sentiment     int64\n",
       "review       object\n",
       "dtype: object"
      ]
     },
     "execution_count": 4,
     "metadata": {},
     "output_type": "execute_result"
    }
   ],
   "source": [
    "train_data.dtypes"
   ]
  },
  {
   "cell_type": "markdown",
   "metadata": {},
   "source": [
    "Type 'object' is a string for pandas. We shall later convert to number representation,maybe using typical bag-of-words or word2vec\n",
    "\n",
    "Starting getting basic information of data:"
   ]
  },
  {
   "cell_type": "code",
   "execution_count": 5,
   "metadata": {
    "collapsed": false
   },
   "outputs": [
    {
     "name": "stdout",
     "output_type": "stream",
     "text": [
      "<class 'pandas.core.frame.DataFrame'>\n",
      "Int64Index: 25000 entries, 0 to 24999\n",
      "Data columns (total 3 columns):\n",
      "id           25000 non-null object\n",
      "sentiment    25000 non-null int64\n",
      "review       25000 non-null object\n",
      "dtypes: int64(1), object(2)\n",
      "memory usage: 781.2+ KB\n"
     ]
    }
   ],
   "source": [
    "train_data.info(0)"
   ]
  },
  {
   "cell_type": "markdown",
   "metadata": {},
   "source": [
    "Now that we already have general idea of Data Set. We next clean, transform data to create useful features for machine learning"
   ]
  },
  {
   "cell_type": "markdown",
   "metadata": {},
   "source": [
    "##Feature 'review'"
   ]
  },
  {
   "cell_type": "markdown",
   "metadata": {},
   "source": [
    "###Processing raw text"
   ]
  },
  {
   "cell_type": "markdown",
   "metadata": {},
   "source": [
    "We will start wrting function for analyzing and cleaning the deature 'review', using first review as a point of illustration"
   ]
  },
  {
   "cell_type": "code",
   "execution_count": 6,
   "metadata": {
    "collapsed": false
   },
   "outputs": [
    {
     "data": {
      "text/plain": [
       "'\"With all this stuff going down at the moment with MJ i\\'ve started listening to his music, watching the odd documentary here and there, watched The Wiz and watched Moonwalker again. Maybe i just want to get a certain insight into this guy who i thought was really cool in the eighties just to maybe make up my mind whether he is guilty or innocent. Moonwalker is part biography, part feature film which i remember going to see at the cinema when it was originally released. Some of it has subtle messages about MJ\\'s feeling towards the press and also the obvious message of drugs are bad m\\'kay.<br /><br />Visually impressive but of course this is all about Michael Jackson so unless you remotely like MJ in anyway then you are going to hate this and find it boring. Some may call MJ an egotist for consenting to the making of this movie BUT MJ and most of his fans would say that he made it for the fans which if true is really nice of him.<br /><br />The actual feature film bit when it finally starts is only on for 20 minutes or so excluding the Smooth Criminal sequence and Joe Pesci is convincing as a psychopathic all powerful drug lord. Why he wants MJ dead so bad is beyond me. Because MJ overheard his plans? Nah, Joe Pesci\\'s character ranted that he wanted people to know it is he who is supplying drugs etc so i dunno, maybe he just hates MJ\\'s music.<br /><br />Lots of cool things in this like MJ turning into a car and a robot and the whole Speed Demon sequence. Also, the director must have had the patience of a saint when it came to filming the kiddy Bad sequence as usually directors hate working with one kid let alone a whole bunch of them performing a complex dance scene.<br /><br />Bottom line, this movie is for people who like MJ on one level or another (which i think is most people). If not, then stay away. It does try and give off a wholesome message and ironically MJ\\'s bestest buddy in this movie is a girl! Michael Jackson is truly one of the most talented people ever to grace this planet but is he guilty? Well, with all the attention i\\'ve gave this subject....hmmm well i don\\'t know because people can be different behind closed doors, i know this for a fact. He is either an extremely nice but stupid guy or one of the most sickest liars. I hope he is not the latter.\"'"
      ]
     },
     "execution_count": 6,
     "metadata": {},
     "output_type": "execute_result"
    }
   ],
   "source": [
    "train_data.review[0]"
   ]
  },
  {
   "cell_type": "markdown",
   "metadata": {},
   "source": [
    "Before we can transform text into number representation, we need to process raw text. Let's first remove HTML and puctuation"
   ]
  },
  {
   "cell_type": "code",
   "execution_count": 7,
   "metadata": {
    "collapsed": false
   },
   "outputs": [
    {
     "data": {
      "text/plain": [
       "u' With all this stuff going down at the moment with MJ i ve started listening to his music  watching the odd documentary here and there  watched The Wiz and watched Moonwalker again  Maybe i just want to get a certain insight into this guy who i thought was really cool in the eighties just to maybe make up my mind whether he is guilty or innocent  Moonwalker is part biography  part feature film which i remember going to see at the cinema when it was originally released  Some of it has subtle messages about MJ s feeling towards the press and also the obvious message of drugs are bad m kay Visually impressive but of course this is all about Michael Jackson so unless you remotely like MJ in anyway then you are going to hate this and find it boring  Some may call MJ an egotist for consenting to the making of this movie BUT MJ and most of his fans would say that he made it for the fans which if true is really nice of him The actual feature film bit when it finally starts is only on for    minutes or so excluding the Smooth Criminal sequence and Joe Pesci is convincing as a psychopathic all powerful drug lord  Why he wants MJ dead so bad is beyond me  Because MJ overheard his plans  Nah  Joe Pesci s character ranted that he wanted people to know it is he who is supplying drugs etc so i dunno  maybe he just hates MJ s music Lots of cool things in this like MJ turning into a car and a robot and the whole Speed Demon sequence  Also  the director must have had the patience of a saint when it came to filming the kiddy Bad sequence as usually directors hate working with one kid let alone a whole bunch of them performing a complex dance scene Bottom line  this movie is for people who like MJ on one level or another  which i think is most people   If not  then stay away  It does try and give off a wholesome message and ironically MJ s bestest buddy in this movie is a girl  Michael Jackson is truly one of the most talented people ever to grace this planet but is he guilty  Well  with all the attention i ve gave this subject    hmmm well i don t know because people can be different behind closed doors  i know this for a fact  He is either an extremely nice but stupid guy or one of the most sickest liars  I hope he is not the latter  '"
      ]
     },
     "execution_count": 7,
     "metadata": {},
     "output_type": "execute_result"
    }
   ],
   "source": [
    "import nltk\n",
    "from bs4 import BeautifulSoup\n",
    "import re\n",
    "soup=BeautifulSoup(train_data.review[0]).get_text()\n",
    "letters_only = re.sub(\"[^a-zA-Z]\",\" \",soup )\n",
    "letters_only"
   ]
  },
  {
   "cell_type": "markdown",
   "metadata": {},
   "source": [
    "Now we start stemming and lemmatizing the text, but it is generally better to first create the pos tagger as we only want to lemmatize verb and noum"
   ]
  },
  {
   "cell_type": "code",
   "execution_count": 8,
   "metadata": {
    "collapsed": false
   },
   "outputs": [
    {
     "data": {
      "text/plain": [
       "[(u'with', 'IN'),\n",
       " (u'all', 'DT'),\n",
       " (u'this', 'DT'),\n",
       " (u'stuff', 'NN'),\n",
       " (u'going', 'VBG')]"
      ]
     },
     "execution_count": 8,
     "metadata": {},
     "output_type": "execute_result"
    }
   ],
   "source": [
    "tokens=nltk.word_tokenize(letters_only.lower())\n",
    "tagged_words=nltk.pos_tag(tokens)\n",
    "tagged_words[0:5]"
   ]
  },
  {
   "cell_type": "markdown",
   "metadata": {},
   "source": [
    "Stemming the text: There are genrally 2 stemmers available in nltk, porter and lancaster"
   ]
  },
  {
   "cell_type": "code",
   "execution_count": 11,
   "metadata": {
    "collapsed": false
   },
   "outputs": [],
   "source": [
    "porter=nltk.PorterStemmer()\n",
    "def lemmatize_with_potter(token,tag):\n",
    "    if tag[0].lower in ['v','n']:\n",
    "        return  porter.stem(token)\n",
    "    return token\n",
    "stemmed_text_with_potter=[lemmatize_with_potter(token,tag) for token,tag in tagged_words]\n",
    "\n",
    "lancaster=nltk.LancasterStemmer()\n",
    "def lemmatize_with_lancaster(token,tag):\n",
    "    if tag[0].lower in ['v','n']:\n",
    "        return  lancaster.stem(token)\n",
    "    return token\n",
    "stemmed_text_with_lancaster=[lemmatize_with_lancaster(token,tag) for token,tag in tagged_words]"
   ]
  },
  {
   "cell_type": "code",
   "execution_count": 12,
   "metadata": {
    "collapsed": false
   },
   "outputs": [
    {
     "data": {
      "text/plain": [
       "[u'with',\n",
       " u'all',\n",
       " u'this',\n",
       " u'stuff',\n",
       " u'going',\n",
       " u'down',\n",
       " u'at',\n",
       " u'the',\n",
       " u'moment',\n",
       " u'with']"
      ]
     },
     "execution_count": 12,
     "metadata": {},
     "output_type": "execute_result"
    }
   ],
   "source": [
    "stemmed_text_with_potter[0:10]"
   ]
  },
  {
   "cell_type": "code",
   "execution_count": 13,
   "metadata": {
    "collapsed": false
   },
   "outputs": [
    {
     "data": {
      "text/plain": [
       "[u'with',\n",
       " u'all',\n",
       " u'this',\n",
       " u'stuff',\n",
       " u'going',\n",
       " u'down',\n",
       " u'at',\n",
       " u'the',\n",
       " u'moment',\n",
       " u'with']"
      ]
     },
     "execution_count": 13,
     "metadata": {},
     "output_type": "execute_result"
    }
   ],
   "source": [
    "stemmed_text_with_lancaster[0:10]"
   ]
  },
  {
   "cell_type": "markdown",
   "metadata": {},
   "source": [
    "Observing that the word 'going' has been stemmed with porter but not with lancaster, I'll choose porter for this task. \n",
    "\n",
    "let's lemmatizing"
   ]
  },
  {
   "cell_type": "code",
   "execution_count": 14,
   "metadata": {
    "collapsed": false
   },
   "outputs": [
    {
     "data": {
      "text/plain": [
       "[u'with',\n",
       " u'all',\n",
       " u'this',\n",
       " u'stuff',\n",
       " u'going',\n",
       " u'down',\n",
       " u'at',\n",
       " u'the',\n",
       " u'moment',\n",
       " u'with']"
      ]
     },
     "execution_count": 14,
     "metadata": {},
     "output_type": "execute_result"
    }
   ],
   "source": [
    "tagged_words_after_stem=nltk.pos_tag(stemmed_text_with_potter)\n",
    "wnl = nltk.WordNetLemmatizer()\n",
    "def lemmatize_with_WordNet(token,tag):\n",
    "    if tag[0].lower in ['v','n']:\n",
    "        return wnl.lemmatize(token)\n",
    "    return token\n",
    "stemmed_and_lemmatized_text=[lemmatize_with_WordNet(token,tag) for token,tag in tagged_words_after_stem]\n",
    "stemmed_and_lemmatized_text[0:10]"
   ]
  },
  {
   "cell_type": "markdown",
   "metadata": {},
   "source": [
    "text cleanning summary"
   ]
  },
  {
   "cell_type": "code",
   "execution_count": 34,
   "metadata": {
    "collapsed": true
   },
   "outputs": [],
   "source": [
    "import re\n",
    "from bs4 import BeautifulSoup\n",
    "import nltk\n",
    "from sklearn.feature_extraction.text import TfidfVectorizer\n",
    "\n",
    "porter=nltk.PorterStemmer()\n",
    "wnl = nltk.WordNetLemmatizer()\n",
    "\n",
    "def stemmatize_with_potter(token,tag):\n",
    "    if tag[0].lower() in ['v','n']:\n",
    "        return  porter.stem(token)\n",
    "    return token\n",
    "\n",
    "\n",
    "def lemmatize_with_WordNet(token,tag):\n",
    "    if tag[0].lower() in ['v','n']:\n",
    "        return wnl.lemmatize(token)\n",
    "    return token\n",
    "\n",
    "def corpus_preprocessing(corpus):\n",
    "    preprocessed_corpus = []\n",
    "    for sentence in corpus:\t\n",
    "        #remove HTML and puctuation\n",
    "        soup=BeautifulSoup(sentence).get_text()\n",
    "        letters_only = re.sub(\"[^a-zA-Z]\",\" \",soup )\n",
    "\n",
    "        #Stemming\n",
    "        tokens=nltk.word_tokenize(letters_only.lower())\n",
    "        tagged_words=nltk.pos_tag(tokens)\n",
    "        stemmed_text_with_potter=[stemmatize_with_potter(token,tag) for token,tag in tagged_words]\n",
    "\n",
    "        #lemmatization\n",
    "        tagged_words_after_stem=nltk.pos_tag(stemmed_text_with_potter)\n",
    "        stemmed_and_lemmatized_text=[lemmatize_with_WordNet(token,tag) for token,tag in tagged_words_after_stem]\n",
    "        \n",
    "        #join all the tokens\n",
    "        clean_review=\" \".join(w for w in  stemmed_and_lemmatized_text)\n",
    "        preprocessed_corpus.append(clean_review)\n",
    "\n",
    "    return preprocessed_corpus\n"
   ]
  },
  {
   "cell_type": "markdown",
   "metadata": {
    "collapsed": true
   },
   "source": [
    "###Transforming feature 'review': bag-of-words model"
   ]
  },
  {
   "cell_type": "markdown",
   "metadata": {},
   "source": [
    "Let's transform feature 'review' into numerical representation to feed into machine learning. The common representation of text is the [bag-of-words model](https://en.wikipedia.org/wiki/Bag-of-words_model)\n",
    "\n",
    "in Sklearn, we can use class CountVectorize to transform the data. We shall also use stop-words to reduce the dimension of feature space. Let's now first 5 data from train Dataset to be test_corpus"
   ]
  },
  {
   "cell_type": "code",
   "execution_count": 39,
   "metadata": {
    "collapsed": false
   },
   "outputs": [
    {
     "name": "stdout",
     "output_type": "stream",
     "text": [
      "[[0 0 1 ..., 0 0 0]\n",
      " [0 0 0 ..., 1 0 0]\n",
      " [0 1 0 ..., 0 1 1]\n",
      " [0 1 0 ..., 0 0 0]\n",
      " [1 1 1 ..., 1 0 0]]\n"
     ]
    }
   ],
   "source": [
    "from sklearn.feature_extraction.text import CountVectorizer\n",
    "vectorizer=CountVectorizer(stop_words='english')\n",
    "test_corpus=train_data.review[0:5]\n",
    "test_corpus= corpus_preprocessing(test_corpus)\n",
    "test_corpus=vectorizer.fit_transform(test_corpus)\n",
    "print test_corpus.todense()"
   ]
  },
  {
   "cell_type": "markdown",
   "metadata": {},
   "source": [
    "###Extending bag-of-words with TF-IDF weights"
   ]
  },
  {
   "cell_type": "markdown",
   "metadata": {},
   "source": [
    "We could extend the bag-of-words representation with [tf-idf](https://en.wikipedia.org/wiki/Tf%E2%80%93idf) to reflect how important a word to a document in a corpus\n",
    "\n",
    "tdf-idf can be applied with class TfidfVectorizer in sklearn"
   ]
  },
  {
   "cell_type": "code",
   "execution_count": 46,
   "metadata": {
    "collapsed": false
   },
   "outputs": [
    {
     "name": "stdout",
     "output_type": "stream",
     "text": [
      "[[ 0.          0.          0.04186337 ...,  0.          0.          0.        ]\n",
      " [ 0.          0.          0.         ...,  0.07981727  0.          0.        ]\n",
      " [ 0.          0.03912565  0.         ...,  0.          0.05842164\n",
      "   0.05842164]\n",
      " [ 0.          0.0451275   0.         ...,  0.          0.          0.        ]\n",
      " [ 0.06656027  0.04457619  0.0537004  ...,  0.0537004   0.          0.        ]]\n"
     ]
    }
   ],
   "source": [
    "from sklearn.feature_extraction.text import TfidfVectorizer\n",
    "vectorizer= TfidfVectorizer(stop_words='english')\n",
    "test_corpus=train_data.review[0:5]\n",
    "test_corpus= corpus_preprocessing(test_corpus)\n",
    "test_corpus=vectorizer.fit_transform(test_corpus)\n",
    "print test_corpus.todense()"
   ]
  },
  {
   "cell_type": "markdown",
   "metadata": {},
   "source": [
    "###Dimensionality reduction"
   ]
  },
  {
   "cell_type": "markdown",
   "metadata": {},
   "source": [
    "Using stop_words was one technique to reduce dimensionality. We can further reduce the dimensinality by using [latent sematic analysis](https://en.wikipedia.org/wiki/Latent_semantic_analysis)\n",
    "\n",
    "In sklearn, we can apply class TruncatedSVD into tf-idf matrix "
   ]
  },
  {
   "cell_type": "code",
   "execution_count": 47,
   "metadata": {
    "collapsed": false
   },
   "outputs": [
    {
     "data": {
      "text/plain": [
       "array([[ 0.59302279,  0.10204894,  0.05459333, -0.20719533,  0.76941514],\n",
       "       [ 0.42258876,  0.80330892,  0.20243974,  0.0516001 , -0.36396305],\n",
       "       [ 0.46017006, -0.1727521 , -0.39830345,  0.77359306, -0.0361713 ],\n",
       "       [ 0.48451063, -0.23827071, -0.49382131, -0.56305644, -0.38416724],\n",
       "       [ 0.4196631 , -0.48859817,  0.72588024,  0.0426256 , -0.23756188]])"
      ]
     },
     "execution_count": 47,
     "metadata": {},
     "output_type": "execute_result"
    }
   ],
   "source": [
    "from sklearn.decomposition import TruncatedSVD \n",
    "tsvd=TruncatedSVD(100)\n",
    "tsvd.fit(corpus)\n",
    "test_corpus=tsvd.transform(test_corpus)\n",
    "test_corpus"
   ]
  },
  {
   "cell_type": "markdown",
   "metadata": {},
   "source": [
    "##Training Naive Bayes"
   ]
  },
  {
   "cell_type": "markdown",
   "metadata": {},
   "source": [
    "Sklearn provides several kinds of Naives classifiers: GaussianNB, MultinomialNB and BernoulliNB. We will choose MultinomialNB for this task"
   ]
  },
  {
   "cell_type": "code",
   "execution_count": null,
   "metadata": {
    "collapsed": true
   },
   "outputs": [],
   "source": [
    "from sklearn.naive_bayes import MultinomialNB\n",
    "model=MultinomialNB()"
   ]
  },
  {
   "cell_type": "markdown",
   "metadata": {},
   "source": [
    "Fitting the training data"
   ]
  },
  {
   "cell_type": "code",
   "execution_count": null,
   "metadata": {
    "collapsed": false
   },
   "outputs": [],
   "source": [
    "#features from train set\n",
    "train_features=train_data.review\n",
    "\n",
    "#pro-processing train features\n",
    "train_features=corpus_preprocessing(train_features)\n",
    "vectorizer= TfidfVectorizer(stop_words='english')\n",
    "train_features=vectorizer.fit_transform(train_features)\n",
    "tsvd=TruncatedSVD(100)\n",
    "tsvd.fit(train_features)\n",
    "train_features=tsvd.transform(train_features)\n",
    "\n",
    "#target from train set \n",
    "train_target=train_data.sentiment\n",
    "\n",
    "#fitting the model\n",
    "model.fit(train_features,train_target)"
   ]
  },
  {
   "cell_type": "markdown",
   "metadata": {},
   "source": [
    "##Predicting with Naive Bayes"
   ]
  },
  {
   "cell_type": "code",
   "execution_count": null,
   "metadata": {
    "collapsed": true
   },
   "outputs": [],
   "source": [
    "#reading test data\n",
    "test_data=train_data=pd.read_csv(\"https://github.com/tranlyvu/kaggle/tree/master/Bag%20of%20Words%20Meets%20Bags%20of%20Popcorn/data/data/testData.tsv\", header=0,delimiter=\"\\t\", quoting=3)\n",
    "\n",
    "#features from test data\n",
    "test_features=test_data.review\n",
    "\n",
    "#pre-processing test features\n",
    "test_features=corpus_preprocessing(test_features)\n",
    "test_features=vectorizer.transform(test_features)\n",
    "test_features=tsvd.transform(test_features)\n",
    "\n",
    "#predicting the sentiment for test set\n",
    "prediction=model.predict(test_features)"
   ]
  },
  {
   "cell_type": "markdown",
   "metadata": {},
   "source": [
    "##Preparing for kaggle submission"
   ]
  },
  {
   "cell_type": "code",
   "execution_count": null,
   "metadata": {
    "collapsed": true
   },
   "outputs": [],
   "source": [
    "#writing out submission file\n",
    "pd.DataFrame( data={\"id\":test_data[\"id\"], \"sentiment\":prediction} ).to_csv(\"first_attempt.csv\", index=False, quoting=3 )"
   ]
  },
  {
   "cell_type": "markdown",
   "metadata": {
    "collapsed": true
   },
   "source": [
    "##Performance Evaluation"
   ]
  },
  {
   "cell_type": "markdown",
   "metadata": {},
   "source": [
    "A variety of metrics exist to evaluate the performance for binary classifiers, i.e accuracy, precision, recall, F1 measure, ROC AUC score. We shall use ROC AUC score for this task as specified by competition site."
   ]
  },
  {
   "cell_type": "markdown",
   "metadata": {},
   "source": [
    "### Splitting train data set"
   ]
  },
  {
   "cell_type": "markdown",
   "metadata": {},
   "source": [
    "We first splitting the train data set for cross validation, let's choose 80% for split_train set and 20% for split test_set"
   ]
  },
  {
   "cell_type": "code",
   "execution_count": null,
   "metadata": {
    "collapsed": false
   },
   "outputs": [],
   "source": [
    "from sklearn.cross_validation import train_test_split\n",
    "# Split 80-20 train vs test data\n",
    "split_train_features, split_test_features, split_train_target, split_test_target= train_test_split(train_features, \n",
    "                                                                                                   train_target, \n",
    "                                                                                                   test_size=0.20, \n",
    "                                                                                                   random_state=0)"
   ]
  },
  {
   "cell_type": "markdown",
   "metadata": {},
   "source": [
    "###Evaluating model using splitted data set"
   ]
  },
  {
   "cell_type": "markdown",
   "metadata": {},
   "source": [
    "[ ROC curve](https://en.wikipedia.org/wiki/Receiver_operating_characteristic) illustrates the classifier's performance for all values of the discrimination threshold. "
   ]
  },
  {
   "cell_type": "code",
   "execution_count": null,
   "metadata": {
    "collapsed": true
   },
   "outputs": [],
   "source": [
    "from sklearn.metric import roc_auc_score,roc_curve\n",
    "\n",
    "#pre-processing split train \n",
    "vectorizer= TfidfVectorizer(stop_words='english')\n",
    "split_train_features=corpus_preprocessing(split_train_features)\n",
    "split_train_features=vectorizer.fit_transform(split_train_features)\n",
    "tsvd=TruncatedSVD(100)\n",
    "tsvd.fit(split_train_features)\n",
    "split_train_features=tsvd.transform(split_train_features)\n",
    "\n",
    "#pre-processing split test features\n",
    "split_test_features=corpus_preprocessing(split_test_features)\n",
    "split_test_features=vectorizer.transform(split_test_features)\n",
    "split_test_features=tsvd.transform(split_test_features=)\n",
    "\n",
    "#fit and predict using split data\n",
    "model.fit(split_train_features,split_train_target)\n",
    "split_prediction=model.predict(split_test_features)\n",
    "score=roc_auc_score(split_test_target, split_predict)\n",
    "print (score(split_test_target, split_predict))"
   ]
  },
  {
   "cell_type": "markdown",
   "metadata": {},
   "source": [
    "###Plotting ROC curve"
   ]
  },
  {
   "cell_type": "markdown",
   "metadata": {},
   "source": [
    "ROC curves plot the classifier's recall against its fall-out."
   ]
  },
  {
   "cell_type": "code",
   "execution_count": null,
   "metadata": {
    "collapsed": true
   },
   "outputs": [],
   "source": [
    "import matplotlib as plt\n",
    "\n",
    "false_positive_rates ,recall,thresholds=roc_curve(split_test_target,split_prediction)\n",
    "plt.title('Receiver Operating Charisteristic')\n",
    "plt.plot(false_positive_rates,recall,'r', label='AUC = %0.2f' %score)\n",
    "plt.legend(loc='lower right')\n",
    "plt.ylable('Recall')\n",
    "plt.xlable('False positive rate')\n",
    "plt.show()"
   ]
  },
  {
   "cell_type": "markdown",
   "metadata": {},
   "source": [
    "The source code of the first attempt can be found [here](https://github.com/tranlyvu/kaggle/blob/master/Bag%20of%20Words%20Meets%20Bags%20of%20Popcorn/main/first_attempt.py)"
   ]
  },
  {
   "cell_type": "code",
   "execution_count": null,
   "metadata": {
    "collapsed": true
   },
   "outputs": [],
   "source": []
  }
 ],
 "metadata": {
  "kernelspec": {
   "display_name": "Python 2",
   "language": "python",
   "name": "python2"
  },
  "language_info": {
   "codemirror_mode": {
    "name": "ipython",
    "version": 2
   },
   "file_extension": ".py",
   "mimetype": "text/x-python",
   "name": "python",
   "nbconvert_exporter": "python",
   "pygments_lexer": "ipython2",
   "version": "2.7.10"
  }
 },
 "nbformat": 4,
 "nbformat_minor": 0
}
