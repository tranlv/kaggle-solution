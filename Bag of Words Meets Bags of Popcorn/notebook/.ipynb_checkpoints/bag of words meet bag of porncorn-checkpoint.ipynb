{
 "cells": [
  {
   "cell_type": "markdown",
   "metadata": {},
   "source": [
    "\n",
    "#Kaggle Competition: Bag of Words Meets Bags of Popcorn\n",
    "\n",
    "*   Info from Competition Site\n",
    "    *   Description\n",
    "    *   Evaluation\n",
    "    *   Data Set\n",
    "*  First attempt: \n",
    "    *  Working with data: exploring labeled Data Set\n",
    "    *  Feature 'review'\n",
    "    *  Features pre-processing summary"
   ]
  },
  {
   "cell_type": "markdown",
   "metadata": {},
   "source": [
    "#Info from Competition Site\n",
    "\n",
    "##[Description](https://www.kaggle.com/c/word2vec-nlp-tutorial)\n",
    "\n",
    "![image](http://localhost:8888/files/image/popcorn%20cvc3.jpg)\n",
    "###Use Google's Word2Vec for movie reviews\n",
    "\n",
    "In this tutorial competition, we dig a little \"deeper\" into sentiment analysis. Google's Word2Vec is a deep-learning inspired method that focuses on the meaning of words. Word2Vec attempts to understand meaning and semantic relationships among words. It works in a way that is similar to deep approaches, such as recurrent neural nets or deep neural nets, but is computationally more efficient. This tutorial focuses on Word2Vec for sentiment analysis.\n",
    "\n",
    "Sentiment analysis is a challenging subject in machine learning. People express their emotions in language that is often obscured by sarcasm, ambiguity, and plays on words, all of which could be very misleading for both humans and computers. There's another Kaggle competition for movie review sentiment analysis. In this tutorial we explore how Word2Vec can be applied to a similar problem.\n",
    "\n",
    "Deep learning has been in the news a lot over the past few years, even making it to the front page of the New York Times. These machine learning techniques, inspired by the architecture of the human brain and made possible by recent advances in computing power, have been making waves via breakthrough results in image recognition, speech processing, and natural language tasks. Recently, deep learning approaches won several Kaggle competitions, including a drug discovery task, and cat and dog image recognition.\n",
    "\n",
    "###Tutorial Overview\n",
    "\n",
    "This tutorial will help you get started with Word2Vec for natural language processing. It has two goals: \n",
    "\n",
    "Basic Natural Language Processing: Part 1 of this tutorial is intended for beginners and covers basic natural language processing techniques, which are needed for later parts of the tutorial.\n",
    "\n",
    "Deep Learning for Text Understanding: In Parts 2 and 3, we delve into how to train a model using Word2Vec and how to use the resulting word vectors for sentiment analysis.\n",
    "\n",
    "Since deep learning is a rapidly evolving field, large amounts of the work has not yet been published, or exists only as academic papers. Part 3 of the tutorial is more exploratory than prescriptive -- we experiment with several ways of using Word2Vec rather than giving you a recipe for using the output.\n",
    "\n",
    "To achieve these goals, we rely on an IMDB sentiment analysis data set, which has 100,000 multi-paragraph movie reviews, both positive and negative. \n",
    "\n",
    "###Acknowledgements\n",
    "\n",
    "This dataset was collected in association with the following publication:\n",
    "\n",
    "Andrew L. Maas, Raymond E. Daly, Peter T. Pham, Dan Huang, Andrew Y. Ng, and Christopher Potts. (2011). \"Learning Word Vectors for Sentiment Analysis.\" The 49th Annual Meeting of the Association for Computational Linguistics (ACL 2011). (link)\n",
    "\n",
    "Please email the author of that paper if you use the data for any research applications. The tutorial was developed by Angela Chapman during her summer 2014 internship at Kaggle.\n",
    "  \n",
    "##[Evaluation](https://www.kaggle.com/c/word2vec-nlp-tutorial/details/evaluation)\n",
    "\n",
    "\n",
    "Submissions are judged on area under the ROC curve. \n",
    "\n",
    "###Submission Instructions\n",
    "\n",
    "You should submit a comma-separated file with 25,000 row plus a header row. There should be 2 columns: \"id\" and \"sentiment\", which contain your binary predictions: 1 for positive reviews, 0 for negative reviews. For an example, see \"sampleSubmission.csv\" on the Data page. \n",
    "\n",
    "id,sentiment\n",
    "123_45,0 \n",
    "678_90,1\n",
    "12_34,0\n",
    "...\n",
    " \n",
    "##[Data Set](https://www.kaggle.com/c/word2vec-nlp-tutorial/data)\n",
    "\n",
    "###Data Files\n",
    "\n",
    "File Name \t      | Available Formats\n",
    "------------------|------------------\n",
    "sampleSubmission  |\t.csv (276.17 kb)\n",
    "unlabeledTrainData.tsv |\t.zip (25.98 mb)\n",
    "testData.tsv \t|.zip (12.64 mb)\n",
    "labeledTrainData.tsv |\t.zip (12.96 mb)\n",
    "\n",
    "###Data Set\n",
    "\n",
    "The labeled data set consists of 50,000 IMDB movie reviews, specially selected for sentiment analysis. The sentiment of reviews is binary, meaning the IMDB rating < 5 results in a sentiment score of 0, and rating >=7 have a sentiment score of 1. No individual movie has more than 30 reviews. The 25,000 review labeled training set does not include any of the same movies as the 25,000 review test set. In addition, there are another 50,000 IMDB reviews provided without any rating labels.\n",
    "\n",
    "###File descriptions\n",
    "\n",
    "*  labeledTrainData - The labeled training set. The file is tab-delimited and has a header row followed by 25,000 rows containing an id, sentiment, and text for each review.  \n",
    "*  testData - The test set. The tab-delimited file has a header row followed by 25,000 rows containing an id and text for each review. Your task is to predict the sentiment for each one. \n",
    "*  unlabeledTrainData - An extra training set with no labels. The tab-delimited file has a header row followed by 50,000 rows containing an id and text for each review. \n",
    "*  sampleSubmission - A comma-delimited sample submission file in the correct format.\n",
    "\n",
    "###Data fields\n",
    "\n",
    "*  id - Unique ID of each review\n",
    "*  sentiment - Sentiment of the review; 1 for positive reviews and 0 for negative reviews\n",
    "*  review - Text of the review\n"
   ]
  },
  {
   "cell_type": "markdown",
   "metadata": {},
   "source": [
    "#First attempt"
   ]
  },
  {
   "cell_type": "markdown",
   "metadata": {},
   "source": [
    "##Working with Data"
   ]
  },
  {
   "cell_type": "markdown",
   "metadata": {},
   "source": [
    "We will first explore  the labled DataSet.\n",
    "Reading original labeled train dataset:"
   ]
  },
  {
   "cell_type": "code",
   "execution_count": null,
   "metadata": {
    "collapsed": false
   },
   "outputs": [],
   "source": [
    "import pandas as pd\n",
    "train_data=pd.read_csv(\"/data/labeledTrainData.tsv\", header=0,delimiter=\"\\t\", quoting=3)\n",
    "train_data.head()"
   ]
  },
  {
   "cell_type": "code",
   "execution_count": null,
   "metadata": {
    "collapsed": false,
    "scrolled": false
   },
   "outputs": [],
   "source": [
    "train_data.tail()"
   ]
  },
  {
   "cell_type": "markdown",
   "metadata": {},
   "source": [
    "Notice that 'sentiment' is binary"
   ]
  },
  {
   "cell_type": "code",
   "execution_count": 8,
   "metadata": {
    "collapsed": false
   },
   "outputs": [
    {
     "data": {
      "text/plain": [
       "id           object\n",
       "sentiment     int64\n",
       "review       object\n",
       "dtype: object"
      ]
     },
     "execution_count": 8,
     "metadata": {},
     "output_type": "execute_result"
    }
   ],
   "source": [
    "train_data.dtypes"
   ]
  },
  {
   "cell_type": "markdown",
   "metadata": {},
   "source": [
    "Type 'object' is a string for pandas. We shall later convert to number representation,maybe using typical bag-of-words or word2vec\n",
    "\n",
    "Starting getting basic information of data:"
   ]
  },
  {
   "cell_type": "code",
   "execution_count": 9,
   "metadata": {
    "collapsed": false
   },
   "outputs": [
    {
     "name": "stdout",
     "output_type": "stream",
     "text": [
      "<class 'pandas.core.frame.DataFrame'>\n",
      "Int64Index: 25000 entries, 0 to 24999\n",
      "Data columns (total 3 columns):\n",
      "id           25000 non-null object\n",
      "sentiment    25000 non-null int64\n",
      "review       25000 non-null object\n",
      "dtypes: int64(1), object(2)\n",
      "memory usage: 781.2+ KB\n"
     ]
    }
   ],
   "source": [
    "train_data.info(0)"
   ]
  },
  {
   "cell_type": "markdown",
   "metadata": {},
   "source": [
    "Now that we already have general idea of Data Set. We next clean, transform data to create useful features for machine learning"
   ]
  },
  {
   "cell_type": "markdown",
   "metadata": {},
   "source": [
    "##Feature 'review'"
   ]
  },
  {
   "cell_type": "markdown",
   "metadata": {},
   "source": [
    "We will start wrting function for analyzing and cleaning the deature 'review', using first review as a point of illustration"
   ]
  },
  {
   "cell_type": "code",
   "execution_count": 10,
   "metadata": {
    "collapsed": false
   },
   "outputs": [
    {
     "data": {
      "text/plain": [
       "'\"With all this stuff going down at the moment with MJ i\\'ve started listening to his music, watching the odd documentary here and there, watched The Wiz and watched Moonwalker again. Maybe i just want to get a certain insight into this guy who i thought was really cool in the eighties just to maybe make up my mind whether he is guilty or innocent. Moonwalker is part biography, part feature film which i remember going to see at the cinema when it was originally released. Some of it has subtle messages about MJ\\'s feeling towards the press and also the obvious message of drugs are bad m\\'kay.<br /><br />Visually impressive but of course this is all about Michael Jackson so unless you remotely like MJ in anyway then you are going to hate this and find it boring. Some may call MJ an egotist for consenting to the making of this movie BUT MJ and most of his fans would say that he made it for the fans which if true is really nice of him.<br /><br />The actual feature film bit when it finally starts is only on for 20 minutes or so excluding the Smooth Criminal sequence and Joe Pesci is convincing as a psychopathic all powerful drug lord. Why he wants MJ dead so bad is beyond me. Because MJ overheard his plans? Nah, Joe Pesci\\'s character ranted that he wanted people to know it is he who is supplying drugs etc so i dunno, maybe he just hates MJ\\'s music.<br /><br />Lots of cool things in this like MJ turning into a car and a robot and the whole Speed Demon sequence. Also, the director must have had the patience of a saint when it came to filming the kiddy Bad sequence as usually directors hate working with one kid let alone a whole bunch of them performing a complex dance scene.<br /><br />Bottom line, this movie is for people who like MJ on one level or another (which i think is most people). If not, then stay away. It does try and give off a wholesome message and ironically MJ\\'s bestest buddy in this movie is a girl! Michael Jackson is truly one of the most talented people ever to grace this planet but is he guilty? Well, with all the attention i\\'ve gave this subject....hmmm well i don\\'t know because people can be different behind closed doors, i know this for a fact. He is either an extremely nice but stupid guy or one of the most sickest liars. I hope he is not the latter.\"'"
      ]
     },
     "execution_count": 10,
     "metadata": {},
     "output_type": "execute_result"
    }
   ],
   "source": [
    "train_data.review[0]"
   ]
  },
  {
   "cell_type": "markdown",
   "metadata": {},
   "source": [
    "Before we can transform text into number representation, we need to process raw text. Let's first remove HTML and puctuation"
   ]
  },
  {
   "cell_type": "code",
   "execution_count": null,
   "metadata": {
    "collapsed": false
   },
   "outputs": [],
   "source": [
    "import nltk\n",
    "from bs4 import BeautifulSoup\n",
    "import re\n",
    "soup=BeautifulSoup(train_data.review[0]).get_text()\n",
    "letters_only = re.sub(\"[^a-zA-Z]\",\" \",soup )\n",
    "letters_only"
   ]
  },
  {
   "cell_type": "markdown",
   "metadata": {},
   "source": [
    "Now we start stemming and lemmatizing the text, but it is generally better to first create the pos tagger as we only want to lemmatize verb and noum"
   ]
  },
  {
   "cell_type": "code",
   "execution_count": null,
   "metadata": {
    "collapsed": false
   },
   "outputs": [],
   "source": [
    "tokens=nltk.word_tokenize(letters_only.lower())\n",
    "tagged_words=nltk.pos_tag(tokens)\n",
    "tagged_words[0:5]"
   ]
  },
  {
   "cell_type": "markdown",
   "metadata": {},
   "source": [
    "Stemming the text: There are genrally 2 stemmers available in nltk, porter and lancaster"
   ]
  },
  {
   "cell_type": "code",
   "execution_count": null,
   "metadata": {
    "collapsed": false
   },
   "outputs": [],
   "source": [
    "def lemmatize_with_potter(token,tag):\n",
    "    porter=nltk.PorterStemmer()\n",
    "    if tag[0] in ['v','n','V','N']:\n",
    "        return  porter.stem(token)\n",
    "    return token\n",
    "stemmed_text_with_potter=[lemmatize_with_potter(token,tag) for token,tag in tagged_words]\n",
    "\n",
    "def lemmatize_with_lancaster(token,tag):\n",
    "    lancaster=nltk.LancasterStemmer()\n",
    "    if tag[0] in ['v','n','V','N']:\n",
    "        return  lancaster.stem(token)\n",
    "    return token\n",
    "stemmed_text_with_lancaster=[lemmatize_with_lancaster(token,tag) for token,tag in tagged_words]"
   ]
  },
  {
   "cell_type": "code",
   "execution_count": null,
   "metadata": {
    "collapsed": false
   },
   "outputs": [],
   "source": [
    "stemmed_text_with_potter[0:10]"
   ]
  },
  {
   "cell_type": "code",
   "execution_count": null,
   "metadata": {
    "collapsed": false
   },
   "outputs": [],
   "source": [
    "stemmed_text_with_lancaster[0:10]"
   ]
  },
  {
   "cell_type": "markdown",
   "metadata": {},
   "source": [
    "Observing that the word 'going' has been stemmed with porter but not with lancaster, I'll choose porter for this task. \n",
    "\n",
    "let's lemmatizing"
   ]
  },
  {
   "cell_type": "code",
   "execution_count": null,
   "metadata": {
    "collapsed": false
   },
   "outputs": [],
   "source": [
    "tagged_words_after_stem=nltk.pos_tag(stemmed_text_with_potter)\n",
    "def lemmatize_with_WordNet(token,tag):\n",
    "    wnl = nltk.WordNetLemmatizer()\n",
    "    if tag[0][0] in ['v','n','V','N']:\n",
    "        return wnl.lemmatize(token)\n",
    "    return token\n",
    "stemmed_and_lemmatized_text=[lemmatize_with_WordNet(token,tag) for token,tag in tagged_words_after_stem]\n",
    "stemmed_and_lemmatized_text[0:10]"
   ]
  },
  {
   "cell_type": "markdown",
   "metadata": {
    "collapsed": true
   },
   "source": [
    "##Transforming feature 'review': bag-of-words model"
   ]
  },
  {
   "cell_type": "markdown",
   "metadata": {},
   "source": [
    "Let's transform feature 'review' into numerical representation to feed into machine learning. The common representation of text is the [bag-of-words model](https://en.wikipedia.org/wiki/Bag-of-words_model)\n",
    "\n",
    "in Sklearn, we can use class CountVectorize to transform the data. We shall also use stop-words to reduce the dimension of feature space"
   ]
  },
  {
   "cell_type": "code",
   "execution_count": 13,
   "metadata": {
    "collapsed": false
   },
   "outputs": [
    {
     "name": "stdout",
     "output_type": "stream",
     "text": [
      "[[0 0 0 ..., 0 0 0]\n",
      " [0 0 0 ..., 0 0 0]\n",
      " [1 1 0 ..., 0 1 1]\n",
      " [0 0 1 ..., 0 0 0]\n",
      " [0 0 0 ..., 1 0 0]]\n"
     ]
    }
   ],
   "source": [
    "from sklearn.feature_extraction.text import CountVectorizer\n",
    "vectorizer=CountVectorizer(stop_words='english')\n",
    "corpus=train_data.review[0:5]\n",
    "print vectorizer.fit_transform(corpus).todense()"
   ]
  },
  {
   "cell_type": "markdown",
   "metadata": {},
   "source": [
    "##Extending bag-of-words with TF-IDF weights"
   ]
  },
  {
   "cell_type": "markdown",
   "metadata": {},
   "source": [
    "We could extend the bag-of-words representation with [tf-idf](https://en.wikipedia.org/wiki/Tf%E2%80%93idf) to reflect how important a word to a document in a corpus\n",
    "\n",
    "tdf-idf can be applied with class TfidfVectorizer in sklearn"
   ]
  },
  {
   "cell_type": "code",
   "execution_count": 14,
   "metadata": {
    "collapsed": false
   },
   "outputs": [
    {
     "name": "stdout",
     "output_type": "stream",
     "text": [
      "[[ 0.          0.          0.         ...,  0.          0.          0.        ]\n",
      " [ 0.          0.          0.         ...,  0.          0.          0.        ]\n",
      " [ 0.06063824  0.06063824  0.         ...,  0.          0.06063824\n",
      "   0.06063824]\n",
      " [ 0.          0.          0.0672503  ...,  0.          0.          0.        ]\n",
      " [ 0.          0.          0.         ...,  0.06649444  0.          0.        ]]\n"
     ]
    }
   ],
   "source": [
    "from sklearn.feature_extraction.text import TfidfVectorizer\n",
    "vectorizer= TfidfVectorizer(stop_words='english')\n",
    "corpus=train_data.review[0:5]\n",
    "print vectorizer.fit_transform(corpus).todense()"
   ]
  },
  {
   "cell_type": "markdown",
   "metadata": {},
   "source": [
    "##Features pre-processing summary"
   ]
  },
  {
   "cell_type": "code",
   "execution_count": null,
   "metadata": {
    "collapsed": false
   },
   "outputs": [],
   "source": [
    "import re\n",
    "from bs4 import BeautifulSoup\n",
    "import nltk\n",
    "from sklearn.feature_extraction.text import TfidfVectorizer\n",
    "\n",
    "porter=nltk.PorterStemmer()\n",
    "wnl = nltk.WordNetLemmatizer()\n",
    "\n",
    "def stemmatize_with_potter(token,tag):\n",
    "    if tag[0].lower() in ['v','n']:\n",
    "        return  porter.stem(token)\n",
    "    return token\n",
    "\n",
    "\n",
    "def lemmatize_with_WordNet(token,tag):\n",
    "    if tag[0].lower() in ['v','n']:\n",
    "        return wnl.lemmatize(token)\n",
    "    return token\n",
    "\n",
    "def corpus_preprocessing(corpus):\n",
    "    preprocessed_corpus = []\n",
    "    for sentence in corpus:\t\n",
    "        #remove HTML and puctuation\n",
    "        soup=BeautifulSoup(sentence).get_text()\n",
    "        letters_only = re.sub(\"[^a-zA-Z]\",\" \",soup )\n",
    "\n",
    "        #Stemming\n",
    "        tokens=nltk.word_tokenize(letters_only.lower())\n",
    "        tagged_words=nltk.pos_tag(tokens)\n",
    "        stemmed_text_with_potter=[stemmatize_with_potter(token,tag) for token,tag in tagged_words]\n",
    "\n",
    "        #lemmatization\n",
    "        tagged_words_after_stem=nltk.pos_tag(stemmed_text_with_potter)\n",
    "        stemmed_and_lemmatized_text=[lemmatize_with_WordNet(token,tag) for token,tag in tagged_words_after_stem]\n",
    "        \n",
    "        #join all the tokens\n",
    "        clean_review=\" \".join(w for w in  stemmed_and_lemmatized_text)\n",
    "        preprocessed_corpus.append(clean_review)\n",
    "\n",
    "    return preprocessed_corpus\n",
    "\n",
    "#features from training set\n",
    "train_features=train_data.review\n",
    "\n",
    "#pro-processing train features\n",
    "train_features=corpus_preprocessing(train_features)\n",
    "vectorizer= TfidfVectorizer(stop_words='english')\n",
    "train_features=vectorizer.fit_transform(train_features)\n"
   ]
  },
  {
   "cell_type": "markdown",
   "metadata": {},
   "source": [
    "##Training Naive Bayes"
   ]
  },
  {
   "cell_type": "markdown",
   "metadata": {},
   "source": [
    "Sklearn provides several kinds of Naives classifiers: GaussianNB, MultinomialNB and BernoulliNB. We will choose MultinomialNB for this task"
   ]
  },
  {
   "cell_type": "code",
   "execution_count": null,
   "metadata": {
    "collapsed": true
   },
   "outputs": [],
   "source": [
    "from sklearn.naive_bayes import MultinomialNB\n",
    "model=MultinomialNB()"
   ]
  },
  {
   "cell_type": "markdown",
   "metadata": {},
   "source": [
    "Fitting the training data"
   ]
  },
  {
   "cell_type": "code",
   "execution_count": null,
   "metadata": {
    "collapsed": false
   },
   "outputs": [],
   "source": [
    "#target from trainings set \n",
    "train_target=train_data.sentiment\n",
    "\n",
    "#fitting the model\n",
    "model.fit(train_features,train_target)"
   ]
  },
  {
   "cell_type": "markdown",
   "metadata": {},
   "source": [
    "##Predicting with Naive Bayes"
   ]
  },
  {
   "cell_type": "code",
   "execution_count": null,
   "metadata": {
    "collapsed": true
   },
   "outputs": [],
   "source": [
    "#reading test data\n",
    "test_data=train_data=pd.read_csv(\"/data/testData.tsv\", header=0,delimiter=\"\\t\", quoting=3)\n",
    "\n",
    "#features from test data\n",
    "test_features=test_data.review\n",
    "\n",
    "#pre-processing test features\n",
    "test_features=corpus_preprocessing(test_features)\n",
    "test_features=vectorizer.fit_transform(test_features)\n",
    "\n",
    "#predicting the sentiment for test set\n",
    "prediction=model.predict(test_features)"
   ]
  },
  {
   "cell_type": "markdown",
   "metadata": {},
   "source": [
    "##Preparing for kaggle submission"
   ]
  },
  {
   "cell_type": "code",
   "execution_count": null,
   "metadata": {
    "collapsed": true
   },
   "outputs": [],
   "source": [
    "pd.DataFrame( data={\"id\":test_data[\"id\"], \"sentiment\":prediction} ).to_csv(\"first_attempt.csv\", index=False, quoting=3 )"
   ]
  },
  {
   "cell_type": "code",
   "execution_count": null,
   "metadata": {
    "collapsed": true
   },
   "outputs": [],
   "source": []
  }
 ],
 "metadata": {
  "kernelspec": {
   "display_name": "Python 2",
   "language": "python",
   "name": "python2"
  },
  "language_info": {
   "codemirror_mode": {
    "name": "ipython",
    "version": 2
   },
   "file_extension": ".py",
   "mimetype": "text/x-python",
   "name": "python",
   "nbconvert_exporter": "python",
   "pygments_lexer": "ipython2",
   "version": "2.7.10"
  }
 },
 "nbformat": 4,
 "nbformat_minor": 0
}
